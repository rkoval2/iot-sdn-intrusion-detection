{
 "cells": [
  {
   "cell_type": "markdown",
   "id": "b9b0e566509bf498",
   "metadata": {
    "collapsed": false
   },
   "source": [
    "# preprocessing"
   ]
  },
  {
   "cell_type": "code",
   "execution_count": 8,
   "id": "bfa0541b0fcbf5e4",
   "metadata": {
    "collapsed": false,
    "ExecuteTime": {
     "end_time": "2023-12-22T16:45:16.880192Z",
     "start_time": "2023-12-22T16:45:16.042631Z"
    }
   },
   "outputs": [
    {
     "data": {
      "text/plain": "   duration protocol_type service flag  src_bytes  dst_bytes  land  \\\n0         0           tcp    http   SF        181       5450     0   \n1         0           tcp    http   SF        239        486     0   \n2         0           tcp    http   SF        235       1337     0   \n3         0           tcp    http   SF        219       1337     0   \n4         0           tcp    http   SF        217       2032     0   \n\n   wrong_fragment  urgent  hot  ...  dst_host_srv_count  \\\n0               0       0    0  ...                   9   \n1               0       0    0  ...                  19   \n2               0       0    0  ...                  29   \n3               0       0    0  ...                  39   \n4               0       0    0  ...                  49   \n\n   dst_host_same_srv_rate  dst_host_diff_srv_rate  \\\n0                     1.0                     0.0   \n1                     1.0                     0.0   \n2                     1.0                     0.0   \n3                     1.0                     0.0   \n4                     1.0                     0.0   \n\n   dst_host_same_src_port_rate  dst_host_srv_diff_host_rate  \\\n0                         0.11                          0.0   \n1                         0.05                          0.0   \n2                         0.03                          0.0   \n3                         0.03                          0.0   \n4                         0.02                          0.0   \n\n   dst_host_serror_rate  dst_host_srv_serror_rate  dst_host_rerror_rate  \\\n0                   0.0                       0.0                   0.0   \n1                   0.0                       0.0                   0.0   \n2                   0.0                       0.0                   0.0   \n3                   0.0                       0.0                   0.0   \n4                   0.0                       0.0                   0.0   \n\n   dst_host_srv_rerror_rate    label  \n0                       0.0  normal.  \n1                       0.0  normal.  \n2                       0.0  normal.  \n3                       0.0  normal.  \n4                       0.0  normal.  \n\n[5 rows x 42 columns]",
      "text/html": "<div>\n<style scoped>\n    .dataframe tbody tr th:only-of-type {\n        vertical-align: middle;\n    }\n\n    .dataframe tbody tr th {\n        vertical-align: top;\n    }\n\n    .dataframe thead th {\n        text-align: right;\n    }\n</style>\n<table border=\"1\" class=\"dataframe\">\n  <thead>\n    <tr style=\"text-align: right;\">\n      <th></th>\n      <th>duration</th>\n      <th>protocol_type</th>\n      <th>service</th>\n      <th>flag</th>\n      <th>src_bytes</th>\n      <th>dst_bytes</th>\n      <th>land</th>\n      <th>wrong_fragment</th>\n      <th>urgent</th>\n      <th>hot</th>\n      <th>...</th>\n      <th>dst_host_srv_count</th>\n      <th>dst_host_same_srv_rate</th>\n      <th>dst_host_diff_srv_rate</th>\n      <th>dst_host_same_src_port_rate</th>\n      <th>dst_host_srv_diff_host_rate</th>\n      <th>dst_host_serror_rate</th>\n      <th>dst_host_srv_serror_rate</th>\n      <th>dst_host_rerror_rate</th>\n      <th>dst_host_srv_rerror_rate</th>\n      <th>label</th>\n    </tr>\n  </thead>\n  <tbody>\n    <tr>\n      <th>0</th>\n      <td>0</td>\n      <td>tcp</td>\n      <td>http</td>\n      <td>SF</td>\n      <td>181</td>\n      <td>5450</td>\n      <td>0</td>\n      <td>0</td>\n      <td>0</td>\n      <td>0</td>\n      <td>...</td>\n      <td>9</td>\n      <td>1.0</td>\n      <td>0.0</td>\n      <td>0.11</td>\n      <td>0.0</td>\n      <td>0.0</td>\n      <td>0.0</td>\n      <td>0.0</td>\n      <td>0.0</td>\n      <td>normal.</td>\n    </tr>\n    <tr>\n      <th>1</th>\n      <td>0</td>\n      <td>tcp</td>\n      <td>http</td>\n      <td>SF</td>\n      <td>239</td>\n      <td>486</td>\n      <td>0</td>\n      <td>0</td>\n      <td>0</td>\n      <td>0</td>\n      <td>...</td>\n      <td>19</td>\n      <td>1.0</td>\n      <td>0.0</td>\n      <td>0.05</td>\n      <td>0.0</td>\n      <td>0.0</td>\n      <td>0.0</td>\n      <td>0.0</td>\n      <td>0.0</td>\n      <td>normal.</td>\n    </tr>\n    <tr>\n      <th>2</th>\n      <td>0</td>\n      <td>tcp</td>\n      <td>http</td>\n      <td>SF</td>\n      <td>235</td>\n      <td>1337</td>\n      <td>0</td>\n      <td>0</td>\n      <td>0</td>\n      <td>0</td>\n      <td>...</td>\n      <td>29</td>\n      <td>1.0</td>\n      <td>0.0</td>\n      <td>0.03</td>\n      <td>0.0</td>\n      <td>0.0</td>\n      <td>0.0</td>\n      <td>0.0</td>\n      <td>0.0</td>\n      <td>normal.</td>\n    </tr>\n    <tr>\n      <th>3</th>\n      <td>0</td>\n      <td>tcp</td>\n      <td>http</td>\n      <td>SF</td>\n      <td>219</td>\n      <td>1337</td>\n      <td>0</td>\n      <td>0</td>\n      <td>0</td>\n      <td>0</td>\n      <td>...</td>\n      <td>39</td>\n      <td>1.0</td>\n      <td>0.0</td>\n      <td>0.03</td>\n      <td>0.0</td>\n      <td>0.0</td>\n      <td>0.0</td>\n      <td>0.0</td>\n      <td>0.0</td>\n      <td>normal.</td>\n    </tr>\n    <tr>\n      <th>4</th>\n      <td>0</td>\n      <td>tcp</td>\n      <td>http</td>\n      <td>SF</td>\n      <td>217</td>\n      <td>2032</td>\n      <td>0</td>\n      <td>0</td>\n      <td>0</td>\n      <td>0</td>\n      <td>...</td>\n      <td>49</td>\n      <td>1.0</td>\n      <td>0.0</td>\n      <td>0.02</td>\n      <td>0.0</td>\n      <td>0.0</td>\n      <td>0.0</td>\n      <td>0.0</td>\n      <td>0.0</td>\n      <td>normal.</td>\n    </tr>\n  </tbody>\n</table>\n<p>5 rows × 42 columns</p>\n</div>"
     },
     "execution_count": 8,
     "metadata": {},
     "output_type": "execute_result"
    }
   ],
   "source": [
    "import pandas as pd\n",
    "\n",
    "headers = open('data/headers', 'r').read().split('\\n')\n",
    "headers.append('label')\n",
    "raw = pd.read_csv('data/kddcup.data_10_percent.csv', names=headers, index_col=None)\n",
    "raw.head()\n",
    "\n"
   ]
  },
  {
   "cell_type": "markdown",
   "id": "a5748038ac191ade",
   "metadata": {
    "collapsed": false
   },
   "source": [
    "# Cluster"
   ]
  },
  {
   "cell_type": "code",
   "execution_count": 9,
   "id": "7c125a4a7d94d3b6",
   "metadata": {
    "collapsed": false,
    "ExecuteTime": {
     "end_time": "2023-12-22T16:45:19.132828Z",
     "start_time": "2023-12-22T16:45:18.690781Z"
    }
   },
   "outputs": [
    {
     "data": {
      "text/plain": "        duration  src_bytes  dst_bytes  land  wrong_fragment  urgent  count  \\\n150148         0       1032          0     0               0       0    511   \n441612         0        520          0     0               0       0    511   \n420228         0        520          0     0               0       0    511   \n352870         0          0          0     0               0       0    250   \n440820         0        520          0     0               0       0    511   \n\n        serror_rate  rerror_rate  same_srv_rate  ...  service_whois  flag_OTH  \\\n150148          0.0          0.0            1.0  ...          False     False   \n441612          0.0          0.0            1.0  ...          False     False   \n420228          0.0          0.0            1.0  ...          False     False   \n352870          1.0          0.0            0.0  ...          False     False   \n440820          0.0          0.0            1.0  ...          False     False   \n\n        flag_REJ  flag_RSTO  flag_RSTR  flag_S0  flag_S1  flag_S2  flag_S3  \\\n150148     False      False      False    False    False    False    False   \n441612     False      False      False    False    False    False    False   \n420228     False      False      False    False    False    False    False   \n352870     False      False      False     True    False    False    False   \n440820     False      False      False    False    False    False    False   \n\n        flag_SF  \n150148     True  \n441612     True  \n420228     True  \n352870    False  \n440820     True  \n\n[5 rows x 92 columns]",
      "text/html": "<div>\n<style scoped>\n    .dataframe tbody tr th:only-of-type {\n        vertical-align: middle;\n    }\n\n    .dataframe tbody tr th {\n        vertical-align: top;\n    }\n\n    .dataframe thead th {\n        text-align: right;\n    }\n</style>\n<table border=\"1\" class=\"dataframe\">\n  <thead>\n    <tr style=\"text-align: right;\">\n      <th></th>\n      <th>duration</th>\n      <th>src_bytes</th>\n      <th>dst_bytes</th>\n      <th>land</th>\n      <th>wrong_fragment</th>\n      <th>urgent</th>\n      <th>count</th>\n      <th>serror_rate</th>\n      <th>rerror_rate</th>\n      <th>same_srv_rate</th>\n      <th>...</th>\n      <th>service_whois</th>\n      <th>flag_OTH</th>\n      <th>flag_REJ</th>\n      <th>flag_RSTO</th>\n      <th>flag_RSTR</th>\n      <th>flag_S0</th>\n      <th>flag_S1</th>\n      <th>flag_S2</th>\n      <th>flag_S3</th>\n      <th>flag_SF</th>\n    </tr>\n  </thead>\n  <tbody>\n    <tr>\n      <th>150148</th>\n      <td>0</td>\n      <td>1032</td>\n      <td>0</td>\n      <td>0</td>\n      <td>0</td>\n      <td>0</td>\n      <td>511</td>\n      <td>0.0</td>\n      <td>0.0</td>\n      <td>1.0</td>\n      <td>...</td>\n      <td>False</td>\n      <td>False</td>\n      <td>False</td>\n      <td>False</td>\n      <td>False</td>\n      <td>False</td>\n      <td>False</td>\n      <td>False</td>\n      <td>False</td>\n      <td>True</td>\n    </tr>\n    <tr>\n      <th>441612</th>\n      <td>0</td>\n      <td>520</td>\n      <td>0</td>\n      <td>0</td>\n      <td>0</td>\n      <td>0</td>\n      <td>511</td>\n      <td>0.0</td>\n      <td>0.0</td>\n      <td>1.0</td>\n      <td>...</td>\n      <td>False</td>\n      <td>False</td>\n      <td>False</td>\n      <td>False</td>\n      <td>False</td>\n      <td>False</td>\n      <td>False</td>\n      <td>False</td>\n      <td>False</td>\n      <td>True</td>\n    </tr>\n    <tr>\n      <th>420228</th>\n      <td>0</td>\n      <td>520</td>\n      <td>0</td>\n      <td>0</td>\n      <td>0</td>\n      <td>0</td>\n      <td>511</td>\n      <td>0.0</td>\n      <td>0.0</td>\n      <td>1.0</td>\n      <td>...</td>\n      <td>False</td>\n      <td>False</td>\n      <td>False</td>\n      <td>False</td>\n      <td>False</td>\n      <td>False</td>\n      <td>False</td>\n      <td>False</td>\n      <td>False</td>\n      <td>True</td>\n    </tr>\n    <tr>\n      <th>352870</th>\n      <td>0</td>\n      <td>0</td>\n      <td>0</td>\n      <td>0</td>\n      <td>0</td>\n      <td>0</td>\n      <td>250</td>\n      <td>1.0</td>\n      <td>0.0</td>\n      <td>0.0</td>\n      <td>...</td>\n      <td>False</td>\n      <td>False</td>\n      <td>False</td>\n      <td>False</td>\n      <td>False</td>\n      <td>True</td>\n      <td>False</td>\n      <td>False</td>\n      <td>False</td>\n      <td>False</td>\n    </tr>\n    <tr>\n      <th>440820</th>\n      <td>0</td>\n      <td>520</td>\n      <td>0</td>\n      <td>0</td>\n      <td>0</td>\n      <td>0</td>\n      <td>511</td>\n      <td>0.0</td>\n      <td>0.0</td>\n      <td>1.0</td>\n      <td>...</td>\n      <td>False</td>\n      <td>False</td>\n      <td>False</td>\n      <td>False</td>\n      <td>False</td>\n      <td>False</td>\n      <td>False</td>\n      <td>False</td>\n      <td>False</td>\n      <td>True</td>\n    </tr>\n  </tbody>\n</table>\n<p>5 rows × 92 columns</p>\n</div>"
     },
     "execution_count": 9,
     "metadata": {},
     "output_type": "execute_result"
    }
   ],
   "source": [
    "from preprocessing import preprocess\n",
    "\n",
    "df, y = preprocess(raw, mode='cluster', sample=10000)\n",
    "df.head()"
   ]
  },
  {
   "cell_type": "code",
   "execution_count": 10,
   "outputs": [
    {
     "name": "stdout",
     "output_type": "stream",
     "text": [
      "<class 'pandas.core.frame.DataFrame'>\n",
      "Index: 10000 entries, 150148 to 358745\n",
      "Data columns (total 92 columns):\n",
      " #   Column               Non-Null Count  Dtype  \n",
      "---  ------               --------------  -----  \n",
      " 0   duration             10000 non-null  int64  \n",
      " 1   src_bytes            10000 non-null  int64  \n",
      " 2   dst_bytes            10000 non-null  int64  \n",
      " 3   land                 10000 non-null  int64  \n",
      " 4   wrong_fragment       10000 non-null  int64  \n",
      " 5   urgent               10000 non-null  int64  \n",
      " 6   count                10000 non-null  int64  \n",
      " 7   serror_rate          10000 non-null  float64\n",
      " 8   rerror_rate          10000 non-null  float64\n",
      " 9   same_srv_rate        10000 non-null  float64\n",
      " 10  diff_srv_rate        10000 non-null  float64\n",
      " 11  srv_count            10000 non-null  int64  \n",
      " 12  srv_serror_rate      10000 non-null  float64\n",
      " 13  srv_rerror_rate      10000 non-null  float64\n",
      " 14  srv_diff_host_rate   10000 non-null  float64\n",
      " 15  protocol_type_icmp   10000 non-null  bool   \n",
      " 16  protocol_type_tcp    10000 non-null  bool   \n",
      " 17  protocol_type_udp    10000 non-null  bool   \n",
      " 18  service_IRC          10000 non-null  bool   \n",
      " 19  service_X11          10000 non-null  bool   \n",
      " 20  service_Z39_50       10000 non-null  bool   \n",
      " 21  service_auth         10000 non-null  bool   \n",
      " 22  service_bgp          10000 non-null  bool   \n",
      " 23  service_courier      10000 non-null  bool   \n",
      " 24  service_csnet_ns     10000 non-null  bool   \n",
      " 25  service_ctf          10000 non-null  bool   \n",
      " 26  service_daytime      10000 non-null  bool   \n",
      " 27  service_discard      10000 non-null  bool   \n",
      " 28  service_domain       10000 non-null  bool   \n",
      " 29  service_domain_u     10000 non-null  bool   \n",
      " 30  service_echo         10000 non-null  bool   \n",
      " 31  service_eco_i        10000 non-null  bool   \n",
      " 32  service_ecr_i        10000 non-null  bool   \n",
      " 33  service_efs          10000 non-null  bool   \n",
      " 34  service_exec         10000 non-null  bool   \n",
      " 35  service_finger       10000 non-null  bool   \n",
      " 36  service_ftp          10000 non-null  bool   \n",
      " 37  service_ftp_data     10000 non-null  bool   \n",
      " 38  service_gopher       10000 non-null  bool   \n",
      " 39  service_hostnames    10000 non-null  bool   \n",
      " 40  service_http         10000 non-null  bool   \n",
      " 41  service_http_443     10000 non-null  bool   \n",
      " 42  service_imap4        10000 non-null  bool   \n",
      " 43  service_iso_tsap     10000 non-null  bool   \n",
      " 44  service_klogin       10000 non-null  bool   \n",
      " 45  service_kshell       10000 non-null  bool   \n",
      " 46  service_ldap         10000 non-null  bool   \n",
      " 47  service_link         10000 non-null  bool   \n",
      " 48  service_login        10000 non-null  bool   \n",
      " 49  service_mtp          10000 non-null  bool   \n",
      " 50  service_name         10000 non-null  bool   \n",
      " 51  service_netbios_dgm  10000 non-null  bool   \n",
      " 52  service_netbios_ns   10000 non-null  bool   \n",
      " 53  service_netbios_ssn  10000 non-null  bool   \n",
      " 54  service_netstat      10000 non-null  bool   \n",
      " 55  service_nnsp         10000 non-null  bool   \n",
      " 56  service_nntp         10000 non-null  bool   \n",
      " 57  service_ntp_u        10000 non-null  bool   \n",
      " 58  service_other        10000 non-null  bool   \n",
      " 59  service_pop_2        10000 non-null  bool   \n",
      " 60  service_pop_3        10000 non-null  bool   \n",
      " 61  service_printer      10000 non-null  bool   \n",
      " 62  service_private      10000 non-null  bool   \n",
      " 63  service_red_i        10000 non-null  bool   \n",
      " 64  service_remote_job   10000 non-null  bool   \n",
      " 65  service_rje          10000 non-null  bool   \n",
      " 66  service_shell        10000 non-null  bool   \n",
      " 67  service_smtp         10000 non-null  bool   \n",
      " 68  service_sql_net      10000 non-null  bool   \n",
      " 69  service_ssh          10000 non-null  bool   \n",
      " 70  service_sunrpc       10000 non-null  bool   \n",
      " 71  service_supdup       10000 non-null  bool   \n",
      " 72  service_systat       10000 non-null  bool   \n",
      " 73  service_telnet       10000 non-null  bool   \n",
      " 74  service_tftp_u       10000 non-null  bool   \n",
      " 75  service_tim_i        10000 non-null  bool   \n",
      " 76  service_time         10000 non-null  bool   \n",
      " 77  service_urh_i        10000 non-null  bool   \n",
      " 78  service_urp_i        10000 non-null  bool   \n",
      " 79  service_uucp         10000 non-null  bool   \n",
      " 80  service_uucp_path    10000 non-null  bool   \n",
      " 81  service_vmnet        10000 non-null  bool   \n",
      " 82  service_whois        10000 non-null  bool   \n",
      " 83  flag_OTH             10000 non-null  bool   \n",
      " 84  flag_REJ             10000 non-null  bool   \n",
      " 85  flag_RSTO            10000 non-null  bool   \n",
      " 86  flag_RSTR            10000 non-null  bool   \n",
      " 87  flag_S0              10000 non-null  bool   \n",
      " 88  flag_S1              10000 non-null  bool   \n",
      " 89  flag_S2              10000 non-null  bool   \n",
      " 90  flag_S3              10000 non-null  bool   \n",
      " 91  flag_SF              10000 non-null  bool   \n",
      "dtypes: bool(77), float64(7), int64(8)\n",
      "memory usage: 2.0 MB\n"
     ]
    }
   ],
   "source": [
    "df.info()"
   ],
   "metadata": {
    "collapsed": false,
    "ExecuteTime": {
     "end_time": "2023-12-22T16:45:20.069674Z",
     "start_time": "2023-12-22T16:45:20.048466Z"
    }
   },
   "id": "20695684e0af6644"
  },
  {
   "cell_type": "code",
   "execution_count": 11,
   "id": "bb14ce8f509d398",
   "metadata": {
    "collapsed": false,
    "ExecuteTime": {
     "end_time": "2023-12-22T16:45:22.534533Z",
     "start_time": "2023-12-22T16:45:21.432266Z"
    }
   },
   "outputs": [],
   "source": [
    "import pandas as pd\n",
    "from sklearn.cluster import Birch\n",
    "from sklearn.metrics import silhouette_score, adjusted_rand_score\n",
    "from sklearn.preprocessing import StandardScaler\n",
    "import numpy as np\n",
    "import matplotlib.pyplot as plt\n"
   ]
  },
  {
   "cell_type": "code",
   "execution_count": 12,
   "id": "25bffd37863aa769",
   "metadata": {
    "collapsed": false,
    "ExecuteTime": {
     "end_time": "2023-12-22T16:45:30.812280Z",
     "start_time": "2023-12-22T16:45:30.769777Z"
    }
   },
   "outputs": [],
   "source": [
    "\n",
    "# 将数据转换为浮点数\n",
    "df = df.values.astype(np.float32)\n",
    "\n",
    "# # 数据预处理\n",
    "scaler = StandardScaler()\n",
    "data_scaled = scaler.fit_transform(df)"
   ]
  },
  {
   "cell_type": "code",
   "execution_count": 5,
   "id": "92deaa569e957708",
   "metadata": {
    "ExecuteTime": {
     "end_time": "2023-12-18T00:10:46.137534772Z",
     "start_time": "2023-12-18T00:10:43.881873959Z"
    },
    "collapsed": false
   },
   "outputs": [
    {
     "name": "stderr",
     "output_type": "stream",
     "text": [
      "2023-12-17 19:47:49.167971: I tensorflow/tsl/cuda/cudart_stub.cc:28] Could not find cuda drivers on your machine, GPU will not be used.\n",
      "2023-12-17 19:47:49.205824: I tensorflow/tsl/cuda/cudart_stub.cc:28] Could not find cuda drivers on your machine, GPU will not be used.\n",
      "2023-12-17 19:47:49.206482: I tensorflow/core/platform/cpu_feature_guard.cc:182] This TensorFlow binary is optimized to use available CPU instructions in performance-critical operations.\n",
      "To enable the following instructions: AVX2, in other operations, rebuild TensorFlow with the appropriate compiler flags.\n",
      "2023-12-17 19:47:49.971195: W tensorflow/compiler/tf2tensorrt/utils/py_utils.cc:38] TF-TRT Warning: Could not find TensorRT\n"
     ]
    },
    {
     "name": "stdout",
     "output_type": "stream",
     "text": [
      "95\n"
     ]
    }
   ],
   "source": [
    "from keras.layers import Input, Dense\n",
    "from keras.models import Model\n",
    "\n",
    "# 构建 Autoencoder\n",
    "input_dim = df.shape[1]\n",
    "print(input_dim)\n",
    "encoding_dim = 16  # 您选择的编码维度\n",
    "\n",
    "input_layer = Input(shape=(input_dim,))\n",
    "# 编码器层\n",
    "encoded = Dense(64, activation='relu')(input_layer)\n",
    "encoded = Dense(32, activation='relu')(encoded)\n",
    "encoded = Dense(encoding_dim, activation='relu')(encoded)\n",
    "\n",
    "# 解码器层\n",
    "decoded = Dense(32, activation='relu')(encoded)\n",
    "decoded = Dense(64, activation='relu')(decoded)\n",
    "decoded = Dense(input_dim, activation='sigmoid')(decoded)\n",
    "\n",
    "encoder = Model(input_layer, encoded)\n",
    "autoencoder = Model(input_layer, decoded)\n",
    "\n",
    "autoencoder.compile(optimizer='adam', loss='mean_squared_error')\n"
   ]
  },
  {
   "cell_type": "code",
   "execution_count": 6,
   "id": "8b157b98220837b5",
   "metadata": {
    "ExecuteTime": {
     "end_time": "2023-12-18T00:10:46.876259480Z",
     "start_time": "2023-12-18T00:10:46.808760562Z"
    },
    "collapsed": false
   },
   "outputs": [
    {
     "name": "stdout",
     "output_type": "stream",
     "text": [
      "Epoch 1/30\n",
      "79/79 [==============================] - 1s 2ms/step - loss: 0.9071\n",
      "Epoch 2/30\n",
      "79/79 [==============================] - 0s 2ms/step - loss: 0.7596\n",
      "Epoch 3/30\n",
      "79/79 [==============================] - 0s 2ms/step - loss: 0.7448\n",
      "Epoch 4/30\n",
      "79/79 [==============================] - 0s 2ms/step - loss: 0.7414\n",
      "Epoch 5/30\n",
      "79/79 [==============================] - 0s 2ms/step - loss: 0.7399\n",
      "Epoch 6/30\n",
      "79/79 [==============================] - 0s 2ms/step - loss: 0.7394\n",
      "Epoch 7/30\n",
      "79/79 [==============================] - 0s 2ms/step - loss: 0.7392\n",
      "Epoch 8/30\n",
      "79/79 [==============================] - 0s 2ms/step - loss: 0.7390\n",
      "Epoch 9/30\n",
      "79/79 [==============================] - 0s 2ms/step - loss: 0.7389\n",
      "Epoch 10/30\n",
      "79/79 [==============================] - 0s 2ms/step - loss: 0.7387\n",
      "Epoch 11/30\n",
      "79/79 [==============================] - 0s 2ms/step - loss: 0.7385\n",
      "Epoch 12/30\n",
      "79/79 [==============================] - 0s 2ms/step - loss: 0.7384\n",
      "Epoch 13/30\n",
      "79/79 [==============================] - 0s 2ms/step - loss: 0.7383\n",
      "Epoch 14/30\n",
      "79/79 [==============================] - 0s 2ms/step - loss: 0.7383\n",
      "Epoch 15/30\n",
      "79/79 [==============================] - 0s 2ms/step - loss: 0.7382\n",
      "Epoch 16/30\n",
      "79/79 [==============================] - 0s 2ms/step - loss: 0.7382\n",
      "Epoch 17/30\n",
      "79/79 [==============================] - 0s 2ms/step - loss: 0.7382\n",
      "Epoch 18/30\n",
      "79/79 [==============================] - 0s 2ms/step - loss: 0.7382\n",
      "Epoch 19/30\n",
      "79/79 [==============================] - 0s 2ms/step - loss: 0.7382\n",
      "Epoch 20/30\n",
      "79/79 [==============================] - 0s 2ms/step - loss: 0.7381\n",
      "Epoch 21/30\n",
      "79/79 [==============================] - 0s 2ms/step - loss: 0.7381\n",
      "Epoch 22/30\n",
      "79/79 [==============================] - 0s 2ms/step - loss: 0.7381\n",
      "Epoch 23/30\n",
      "79/79 [==============================] - 0s 2ms/step - loss: 0.7381\n",
      "Epoch 24/30\n",
      "79/79 [==============================] - 0s 2ms/step - loss: 0.7381\n",
      "Epoch 25/30\n",
      "79/79 [==============================] - 0s 2ms/step - loss: 0.7381\n",
      "Epoch 26/30\n",
      "79/79 [==============================] - 0s 2ms/step - loss: 0.7380\n",
      "Epoch 27/30\n",
      "79/79 [==============================] - 0s 2ms/step - loss: 0.7380\n",
      "Epoch 28/30\n",
      "79/79 [==============================] - 0s 2ms/step - loss: 0.7380\n",
      "Epoch 29/30\n",
      "79/79 [==============================] - 0s 2ms/step - loss: 0.7380\n",
      "Epoch 30/30\n",
      "79/79 [==============================] - 0s 2ms/step - loss: 0.7380\n"
     ]
    },
    {
     "data": {
      "text/plain": [
       "<keras.src.callbacks.History at 0x7ff854f77700>"
      ]
     },
     "execution_count": 6,
     "metadata": {},
     "output_type": "execute_result"
    }
   ],
   "source": [
    "autoencoder.fit(data_scaled, data_scaled, epochs=30, batch_size=128, shuffle=True)"
   ]
  },
  {
   "cell_type": "code",
   "execution_count": 7,
   "id": "8dff4be4e8b921db",
   "metadata": {
    "ExecuteTime": {
     "end_time": "2023-12-18T00:10:47.287494563Z",
     "start_time": "2023-12-18T00:10:47.228501536Z"
    },
    "collapsed": false
   },
   "outputs": [
    {
     "name": "stdout",
     "output_type": "stream",
     "text": [
      "313/313 [==============================] - 0s 1ms/step\n"
     ]
    }
   ],
   "source": [
    "encoded_data = encoder.predict(df)"
   ]
  },
  {
   "cell_type": "code",
   "execution_count": 8,
   "id": "520450dbf9b1604e",
   "metadata": {
    "ExecuteTime": {
     "end_time": "2023-12-18T00:10:48.498479223Z",
     "start_time": "2023-12-18T00:10:48.430388213Z"
    },
    "collapsed": false
   },
   "outputs": [
    {
     "name": "stdout",
     "output_type": "stream",
     "text": [
      "Silhouette Coefficient Index: 0.9990404\n",
      "Adjusted Rand index: -0.00015049566622998476\n"
     ]
    }
   ],
   "source": [
    "# 应用 BIRCH 聚类\n",
    "birch_model = Birch(n_clusters = 2)  # 设置聚类数\n",
    "labels_pred = birch_model.fit_predict(df)\n",
    "\n",
    "# 评估聚类效果\n",
    "silhouette = silhouette_score(encoded_data, labels_pred)\n",
    "ari = adjusted_rand_score(y, labels_pred)\n",
    "print(\"Silhouette Coefficient Index:\", silhouette)\n",
    "print(\"Adjusted Rand index:\", ari)\n",
    "\n",
    "# # 可视化（可选）\n",
    "# # 这需要您的数据是二维的，或者使用降维方法将其转换为二维\n",
    "# plt.scatter(data.iloc[:, 0], data.iloc[:, 1], c=labels_pred, cmap='viridis')\n",
    "# plt.title('BIRCH Clustering')\n",
    "# plt.show()"
   ]
  },
  {
   "cell_type": "markdown",
   "id": "c3d8821b3a0f6653",
   "metadata": {
    "collapsed": false
   },
   "source": [
    "# Classification"
   ]
  },
  {
   "cell_type": "code",
   "execution_count": 16,
   "outputs": [],
   "source": [
    "import pickle\n",
    "\n",
    "def serialize(name, model):\n",
    "    with open(f\"{name}.pickle\", \"wb\") as f:\n",
    "        pickle.dump(model, f)"
   ],
   "metadata": {
    "collapsed": false,
    "ExecuteTime": {
     "end_time": "2023-12-22T16:49:49.247736Z",
     "start_time": "2023-12-22T16:49:49.236412Z"
    }
   },
   "id": "7a8806881c5f767"
  },
  {
   "cell_type": "code",
   "execution_count": 17,
   "id": "c2bdec8ae641fdde",
   "metadata": {
    "collapsed": false,
    "ExecuteTime": {
     "end_time": "2023-12-22T16:49:51.028806Z",
     "start_time": "2023-12-22T16:49:50.450170Z"
    }
   },
   "outputs": [],
   "source": [
    "# from preprocessing import preprocess\n",
    "df, y = preprocess(raw, mode='cluster')\n",
    "result = {}\n",
    "\n",
    "from sklearn.model_selection import train_test_split\n",
    "X_train, X_test, y_train, y_test = train_test_split(df, y, test_size=0.2, random_state=0)"
   ]
  },
  {
   "cell_type": "code",
   "execution_count": 18,
   "id": "dd03619145ab3163",
   "metadata": {
    "collapsed": false,
    "ExecuteTime": {
     "end_time": "2023-12-22T16:50:10.596789Z",
     "start_time": "2023-12-22T16:49:51.646134Z"
    }
   },
   "outputs": [
    {
     "name": "stdout",
     "output_type": "stream",
     "text": [
      "              precision    recall  f1-score   support\n",
      "\n",
      "           0       0.96      0.99      0.98     19466\n",
      "           1       1.00      0.99      0.99     78282\n",
      "\n",
      "    accuracy                           0.99     97748\n",
      "   macro avg       0.98      0.99      0.99     97748\n",
      "weighted avg       0.99      0.99      0.99     97748\n"
     ]
    }
   ],
   "source": [
    "# logistic regression\n",
    "from sklearn.linear_model import LogisticRegression\n",
    "from sklearn.metrics import classification_report\n",
    "\n",
    "\n",
    "lr = LogisticRegression(random_state=0, solver='lbfgs', multi_class='multinomial')\n",
    "lr.fit(X_train, y_train)\n",
    "y_pred = lr.predict(X_test)\n",
    "print(classification_report(y_test, y_pred))\n",
    "# from visual import draw\n",
    "# result['MLP'] = draw(lr, X_test, y_test)\n",
    "serialize(\"lr\", lr)"
   ]
  },
  {
   "cell_type": "code",
   "execution_count": 20,
   "id": "80b4f5fb8648fd73",
   "metadata": {
    "collapsed": false,
    "ExecuteTime": {
     "end_time": "2023-12-22T16:54:04.394990Z",
     "start_time": "2023-12-22T16:53:13.953186Z"
    }
   },
   "outputs": [
    {
     "name": "stdout",
     "output_type": "stream",
     "text": [
      "              precision    recall  f1-score   support\n",
      "\n",
      "           0       1.00      0.82      0.90     19466\n",
      "           1       0.96      1.00      0.98     78282\n",
      "\n",
      "    accuracy                           0.96     97748\n",
      "   macro avg       0.98      0.91      0.94     97748\n",
      "weighted avg       0.96      0.96      0.96     97748\n"
     ]
    }
   ],
   "source": [
    "#MLP\n",
    "from sklearn.neural_network import MLPClassifier\n",
    "from sklearn.metrics import classification_report\n",
    "\n",
    "\n",
    "\n",
    "clf = MLPClassifier(solver='lbfgs', alpha=1e-5, hidden_layer_sizes=(5, 2), random_state=1)\n",
    "clf.fit(X_train, y_train)\n",
    "y_pred = clf.predict(X_test)\n",
    "print(classification_report(y_test, y_pred))\n",
    "\n",
    "# from visual import draw\n",
    "# result['MLP'] = draw(clf, X_test, y_test)\n",
    "serialize(\"clf\", clf)"
   ]
  },
  {
   "cell_type": "code",
   "execution_count": 12,
   "id": "bd9bc5d6703baae5",
   "metadata": {
    "ExecuteTime": {
     "end_time": "2023-12-18T03:35:44.354532982Z",
     "start_time": "2023-12-18T03:35:37.046673239Z"
    },
    "collapsed": false
   },
   "outputs": [
    {
     "name": "stdout",
     "output_type": "stream",
     "text": [
      "              precision    recall  f1-score   support\n",
      "\n",
      "           0       0.97      0.98      0.98     19471\n",
      "           1       1.00      0.99      0.99     79334\n",
      "\n",
      "    accuracy                           0.99     98805\n",
      "   macro avg       0.98      0.99      0.98     98805\n",
      "weighted avg       0.99      0.99      0.99     98805\n"
     ]
    }
   ],
   "source": [
    "from sklearn.ensemble import RandomForestClassifier\n",
    "rf = RandomForestClassifier(n_estimators=102, max_depth=2, random_state=0)\n",
    "rf.fit(X_train, y_train)\n",
    "y_pred = rf.predict(X_test)\n",
    "\n",
    "print(classification_report(y_test, y_pred))\n",
    "# draw(rf, X_test, y_test)\n",
    "serialize(\"rf\", rf)"
   ]
  }
 ],
 "metadata": {
  "kernelspec": {
   "display_name": "Python 3 (ipykernel)",
   "language": "python",
   "name": "python3"
  },
  "language_info": {
   "codemirror_mode": {
    "name": "ipython",
    "version": 3
   },
   "file_extension": ".py",
   "mimetype": "text/x-python",
   "name": "python",
   "nbconvert_exporter": "python",
   "pygments_lexer": "ipython3",
   "version": "3.8.5"
  }
 },
 "nbformat": 4,
 "nbformat_minor": 5
}
