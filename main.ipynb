{
 "cells": [
  {
   "cell_type": "markdown",
   "id": "b9b0e566509bf498",
   "metadata": {
    "collapsed": false,
    "jupyter": {
     "outputs_hidden": false
    }
   },
   "source": [
    "# preprocessing"
   ]
  },
  {
   "cell_type": "code",
   "execution_count": 1,
   "id": "bfa0541b0fcbf5e4",
   "metadata": {
    "ExecuteTime": {
     "end_time": "2023-12-18T03:31:43.997542002Z",
     "start_time": "2023-12-18T03:31:42.692058002Z"
    },
    "collapsed": false,
    "jupyter": {
     "outputs_hidden": false
    }
   },
   "outputs": [
    {
     "data": {
      "text/html": [
       "<div>\n",
       "<style scoped>\n",
       "    .dataframe tbody tr th:only-of-type {\n",
       "        vertical-align: middle;\n",
       "    }\n",
       "\n",
       "    .dataframe tbody tr th {\n",
       "        vertical-align: top;\n",
       "    }\n",
       "\n",
       "    .dataframe thead th {\n",
       "        text-align: right;\n",
       "    }\n",
       "</style>\n",
       "<table border=\"1\" class=\"dataframe\">\n",
       "  <thead>\n",
       "    <tr style=\"text-align: right;\">\n",
       "      <th></th>\n",
       "      <th>duration</th>\n",
       "      <th>protocol_type</th>\n",
       "      <th>service</th>\n",
       "      <th>flag</th>\n",
       "      <th>src_bytes</th>\n",
       "      <th>dst_bytes</th>\n",
       "      <th>land</th>\n",
       "      <th>wrong_fragment</th>\n",
       "      <th>urgent</th>\n",
       "      <th>hot</th>\n",
       "      <th>...</th>\n",
       "      <th>dst_host_srv_count</th>\n",
       "      <th>dst_host_same_srv_rate</th>\n",
       "      <th>dst_host_diff_srv_rate</th>\n",
       "      <th>dst_host_same_src_port_rate</th>\n",
       "      <th>dst_host_srv_diff_host_rate</th>\n",
       "      <th>dst_host_serror_rate</th>\n",
       "      <th>dst_host_srv_serror_rate</th>\n",
       "      <th>dst_host_rerror_rate</th>\n",
       "      <th>dst_host_srv_rerror_rate</th>\n",
       "      <th>label</th>\n",
       "    </tr>\n",
       "  </thead>\n",
       "  <tbody>\n",
       "    <tr>\n",
       "      <th>0</th>\n",
       "      <td>0</td>\n",
       "      <td>tcp</td>\n",
       "      <td>http</td>\n",
       "      <td>SF</td>\n",
       "      <td>181</td>\n",
       "      <td>5450</td>\n",
       "      <td>0</td>\n",
       "      <td>0</td>\n",
       "      <td>0</td>\n",
       "      <td>0</td>\n",
       "      <td>...</td>\n",
       "      <td>9</td>\n",
       "      <td>1.0</td>\n",
       "      <td>0.0</td>\n",
       "      <td>0.11</td>\n",
       "      <td>0.0</td>\n",
       "      <td>0.0</td>\n",
       "      <td>0.0</td>\n",
       "      <td>0.0</td>\n",
       "      <td>0.0</td>\n",
       "      <td>normal.</td>\n",
       "    </tr>\n",
       "    <tr>\n",
       "      <th>1</th>\n",
       "      <td>0</td>\n",
       "      <td>tcp</td>\n",
       "      <td>http</td>\n",
       "      <td>SF</td>\n",
       "      <td>239</td>\n",
       "      <td>486</td>\n",
       "      <td>0</td>\n",
       "      <td>0</td>\n",
       "      <td>0</td>\n",
       "      <td>0</td>\n",
       "      <td>...</td>\n",
       "      <td>19</td>\n",
       "      <td>1.0</td>\n",
       "      <td>0.0</td>\n",
       "      <td>0.05</td>\n",
       "      <td>0.0</td>\n",
       "      <td>0.0</td>\n",
       "      <td>0.0</td>\n",
       "      <td>0.0</td>\n",
       "      <td>0.0</td>\n",
       "      <td>normal.</td>\n",
       "    </tr>\n",
       "    <tr>\n",
       "      <th>2</th>\n",
       "      <td>0</td>\n",
       "      <td>tcp</td>\n",
       "      <td>http</td>\n",
       "      <td>SF</td>\n",
       "      <td>235</td>\n",
       "      <td>1337</td>\n",
       "      <td>0</td>\n",
       "      <td>0</td>\n",
       "      <td>0</td>\n",
       "      <td>0</td>\n",
       "      <td>...</td>\n",
       "      <td>29</td>\n",
       "      <td>1.0</td>\n",
       "      <td>0.0</td>\n",
       "      <td>0.03</td>\n",
       "      <td>0.0</td>\n",
       "      <td>0.0</td>\n",
       "      <td>0.0</td>\n",
       "      <td>0.0</td>\n",
       "      <td>0.0</td>\n",
       "      <td>normal.</td>\n",
       "    </tr>\n",
       "    <tr>\n",
       "      <th>3</th>\n",
       "      <td>0</td>\n",
       "      <td>tcp</td>\n",
       "      <td>http</td>\n",
       "      <td>SF</td>\n",
       "      <td>219</td>\n",
       "      <td>1337</td>\n",
       "      <td>0</td>\n",
       "      <td>0</td>\n",
       "      <td>0</td>\n",
       "      <td>0</td>\n",
       "      <td>...</td>\n",
       "      <td>39</td>\n",
       "      <td>1.0</td>\n",
       "      <td>0.0</td>\n",
       "      <td>0.03</td>\n",
       "      <td>0.0</td>\n",
       "      <td>0.0</td>\n",
       "      <td>0.0</td>\n",
       "      <td>0.0</td>\n",
       "      <td>0.0</td>\n",
       "      <td>normal.</td>\n",
       "    </tr>\n",
       "    <tr>\n",
       "      <th>4</th>\n",
       "      <td>0</td>\n",
       "      <td>tcp</td>\n",
       "      <td>http</td>\n",
       "      <td>SF</td>\n",
       "      <td>217</td>\n",
       "      <td>2032</td>\n",
       "      <td>0</td>\n",
       "      <td>0</td>\n",
       "      <td>0</td>\n",
       "      <td>0</td>\n",
       "      <td>...</td>\n",
       "      <td>49</td>\n",
       "      <td>1.0</td>\n",
       "      <td>0.0</td>\n",
       "      <td>0.02</td>\n",
       "      <td>0.0</td>\n",
       "      <td>0.0</td>\n",
       "      <td>0.0</td>\n",
       "      <td>0.0</td>\n",
       "      <td>0.0</td>\n",
       "      <td>normal.</td>\n",
       "    </tr>\n",
       "  </tbody>\n",
       "</table>\n",
       "<p>5 rows × 42 columns</p>\n",
       "</div>"
      ],
      "text/plain": [
       "   duration protocol_type service flag  src_bytes  dst_bytes  land  \\\n",
       "0         0           tcp    http   SF        181       5450     0   \n",
       "1         0           tcp    http   SF        239        486     0   \n",
       "2         0           tcp    http   SF        235       1337     0   \n",
       "3         0           tcp    http   SF        219       1337     0   \n",
       "4         0           tcp    http   SF        217       2032     0   \n",
       "\n",
       "   wrong_fragment  urgent  hot  ...  dst_host_srv_count  \\\n",
       "0               0       0    0  ...                   9   \n",
       "1               0       0    0  ...                  19   \n",
       "2               0       0    0  ...                  29   \n",
       "3               0       0    0  ...                  39   \n",
       "4               0       0    0  ...                  49   \n",
       "\n",
       "   dst_host_same_srv_rate  dst_host_diff_srv_rate  \\\n",
       "0                     1.0                     0.0   \n",
       "1                     1.0                     0.0   \n",
       "2                     1.0                     0.0   \n",
       "3                     1.0                     0.0   \n",
       "4                     1.0                     0.0   \n",
       "\n",
       "   dst_host_same_src_port_rate  dst_host_srv_diff_host_rate  \\\n",
       "0                         0.11                          0.0   \n",
       "1                         0.05                          0.0   \n",
       "2                         0.03                          0.0   \n",
       "3                         0.03                          0.0   \n",
       "4                         0.02                          0.0   \n",
       "\n",
       "   dst_host_serror_rate  dst_host_srv_serror_rate  dst_host_rerror_rate  \\\n",
       "0                   0.0                       0.0                   0.0   \n",
       "1                   0.0                       0.0                   0.0   \n",
       "2                   0.0                       0.0                   0.0   \n",
       "3                   0.0                       0.0                   0.0   \n",
       "4                   0.0                       0.0                   0.0   \n",
       "\n",
       "   dst_host_srv_rerror_rate    label  \n",
       "0                       0.0  normal.  \n",
       "1                       0.0  normal.  \n",
       "2                       0.0  normal.  \n",
       "3                       0.0  normal.  \n",
       "4                       0.0  normal.  \n",
       "\n",
       "[5 rows x 42 columns]"
      ]
     },
     "execution_count": 1,
     "metadata": {},
     "output_type": "execute_result"
    }
   ],
   "source": [
    "import pandas as pd\n",
    "\n",
    "headers = open('data/headers', 'r').read().split('\\n')\n",
    "headers.append('label')\n",
    "raw = pd.read_csv('data/kddcup.data_10_percent.csv', names=headers, index_col=None)\n",
    "raw.head()\n",
    "\n"
   ]
  },
  {
   "cell_type": "markdown",
   "id": "a5748038ac191ade",
   "metadata": {
    "collapsed": false,
    "jupyter": {
     "outputs_hidden": false
    }
   },
   "source": [
    "# Cluster"
   ]
  },
  {
   "cell_type": "code",
   "execution_count": 2,
   "id": "7c125a4a7d94d3b6",
   "metadata": {
    "ExecuteTime": {
     "end_time": "2023-12-18T03:32:15.659424408Z",
     "start_time": "2023-12-18T03:32:15.079012160Z"
    },
    "collapsed": false,
    "jupyter": {
     "outputs_hidden": false
    }
   },
   "outputs": [
    {
     "name": "stdout",
     "output_type": "stream",
     "text": [
      "   duration protocol_type service flag  src_bytes  dst_bytes  land  \\\n",
      "0         0           tcp    http   SF        181       5450     0   \n",
      "1         0           tcp    http   SF        239        486     0   \n",
      "2         0           tcp    http   SF        235       1337     0   \n",
      "3         0           tcp    http   SF        219       1337     0   \n",
      "4         0           tcp    http   SF        217       2032     0   \n",
      "\n",
      "   wrong_fragment  urgent  hot  ...  dst_host_srv_count  \\\n",
      "0               0       0    0  ...                   9   \n",
      "1               0       0    0  ...                  19   \n",
      "2               0       0    0  ...                  29   \n",
      "3               0       0    0  ...                  39   \n",
      "4               0       0    0  ...                  49   \n",
      "\n",
      "   dst_host_same_srv_rate  dst_host_diff_srv_rate  \\\n",
      "0                     1.0                     0.0   \n",
      "1                     1.0                     0.0   \n",
      "2                     1.0                     0.0   \n",
      "3                     1.0                     0.0   \n",
      "4                     1.0                     0.0   \n",
      "\n",
      "   dst_host_same_src_port_rate  dst_host_srv_diff_host_rate  \\\n",
      "0                         0.11                          0.0   \n",
      "1                         0.05                          0.0   \n",
      "2                         0.03                          0.0   \n",
      "3                         0.03                          0.0   \n",
      "4                         0.02                          0.0   \n",
      "\n",
      "   dst_host_serror_rate  dst_host_srv_serror_rate  dst_host_rerror_rate  \\\n",
      "0                   0.0                       0.0                   0.0   \n",
      "1                   0.0                       0.0                   0.0   \n",
      "2                   0.0                       0.0                   0.0   \n",
      "3                   0.0                       0.0                   0.0   \n",
      "4                   0.0                       0.0                   0.0   \n",
      "\n",
      "   dst_host_srv_rerror_rate    label  \n",
      "0                       0.0  normal.  \n",
      "1                       0.0  normal.  \n",
      "2                       0.0  normal.  \n",
      "3                       0.0  normal.  \n",
      "4                       0.0  normal.  \n",
      "\n",
      "[5 rows x 42 columns]\n"
     ]
    }
   ],
   "source": [
    "def preprocess(df: pd.DataFrame, mode='classification', sample=None):\n",
    "    # pd.set_option('mode.chained_assignment', None)\n",
    "    df2 = df.query(\n",
    "        'label == \"back.\" or label == \"land.\" or label == \"neptune.\" or label == \"pod.\" '\n",
    "        'or label == \"smurf.\" or label == \"teardrop.\" or label == \"normal.\"', inplace=False)\n",
    "\n",
    "    print(df2.head())\n",
    "\n",
    "    df['result'] = df['label'].apply(lambda x: 0 if x == 'normal.' else 1)\n",
    "\n",
    "    df = df[['duration', 'protocol_type', 'service', 'flag', 'src_bytes', 'dst_bytes',\n",
    "             'land', 'wrong_fragment', 'urgent', 'count', 'serror_rate', 'rerror_rate', 'same_srv_rate',\n",
    "             'diff_srv_rate',\n",
    "             'srv_count', 'srv_serror_rate', 'srv_rerror_rate', 'srv_diff_host_rate',\n",
    "             # 'dst_host_count', 'dst_host_srv_count', 'dst_host_same_srv_rate', 'dst_host_diff_srv_rate',\n",
    "             # 'dst_host_same_src_port_rate', 'dst_host_srv_diff_host_rate', 'dst_host_serror_rate',\n",
    "             # 'dst_host_srv_serror_rate', 'dst_host_rerror_rate', 'dst_host_srv_rerror_rate',\n",
    "             'label', 'result']]\n",
    "\n",
    "    df = pd.get_dummies(df, columns=['protocol_type', 'service', 'flag'])\n",
    "\n",
    "    if sample is not None:\n",
    "        df = df.sample(n=sample, random_state=1)\n",
    "\n",
    "    if mode == 'classification':\n",
    "        from sklearn.preprocessing import LabelEncoder\n",
    "        le = LabelEncoder()\n",
    "        df = df.drop('label', axis=1)\n",
    "        labels_true = le.fit_transform(df['result'])\n",
    "        df = df.drop('result', axis=1)\n",
    "        return (df, labels_true) # X, y\n",
    "    elif mode == 'cluster':\n",
    "        labels_true = df['result']\n",
    "        df = df.drop('label', axis=1)\n",
    "        df = df.drop('result', axis=1)\n",
    "        return (df, labels_true) # X, y\n",
    "\n",
    "df, y = preprocess(raw, mode='cluster', sample=10000)"
   ]
  },
  {
   "cell_type": "code",
   "execution_count": 3,
   "id": "bb14ce8f509d398",
   "metadata": {
    "ExecuteTime": {
     "end_time": "2023-12-18T03:32:37.306892547Z",
     "start_time": "2023-12-18T03:32:36.479840500Z"
    },
    "collapsed": false,
    "jupyter": {
     "outputs_hidden": false
    }
   },
   "outputs": [],
   "source": [
    "import pandas as pd\n",
    "from sklearn.cluster import Birch\n",
    "from sklearn.metrics import silhouette_score, adjusted_rand_score\n",
    "from sklearn.preprocessing import StandardScaler\n",
    "import numpy as np\n",
    "import matplotlib.pyplot as plt\n"
   ]
  },
  {
   "cell_type": "code",
   "execution_count": 4,
   "id": "25bffd37863aa769",
   "metadata": {
    "ExecuteTime": {
     "end_time": "2023-12-18T00:10:43.108232351Z",
     "start_time": "2023-12-18T00:10:43.030053754Z"
    },
    "collapsed": false,
    "jupyter": {
     "outputs_hidden": false
    }
   },
   "outputs": [],
   "source": [
    "\n",
    "# 将数据转换为浮点数\n",
    "df = df.values.astype(np.float32)\n",
    "\n",
    "# # 数据预处理\n",
    "scaler = StandardScaler()\n",
    "data_scaled = scaler.fit_transform(df)"
   ]
  },
  {
   "cell_type": "code",
   "execution_count": 5,
   "id": "92deaa569e957708",
   "metadata": {
    "ExecuteTime": {
     "end_time": "2023-12-18T00:10:46.137534772Z",
     "start_time": "2023-12-18T00:10:43.881873959Z"
    },
    "collapsed": false,
    "jupyter": {
     "outputs_hidden": false
    }
   },
   "outputs": [
    {
     "name": "stderr",
     "output_type": "stream",
     "text": [
      "2023-12-17 19:47:49.167971: I tensorflow/tsl/cuda/cudart_stub.cc:28] Could not find cuda drivers on your machine, GPU will not be used.\n",
      "2023-12-17 19:47:49.205824: I tensorflow/tsl/cuda/cudart_stub.cc:28] Could not find cuda drivers on your machine, GPU will not be used.\n",
      "2023-12-17 19:47:49.206482: I tensorflow/core/platform/cpu_feature_guard.cc:182] This TensorFlow binary is optimized to use available CPU instructions in performance-critical operations.\n",
      "To enable the following instructions: AVX2, in other operations, rebuild TensorFlow with the appropriate compiler flags.\n",
      "2023-12-17 19:47:49.971195: W tensorflow/compiler/tf2tensorrt/utils/py_utils.cc:38] TF-TRT Warning: Could not find TensorRT\n"
     ]
    },
    {
     "name": "stdout",
     "output_type": "stream",
     "text": [
      "95\n"
     ]
    }
   ],
   "source": [
    "from keras.layers import Input, Dense\n",
    "from keras.models import Model\n",
    "\n",
    "# 构建 Autoencoder\n",
    "input_dim = df.shape[1]\n",
    "print(input_dim)\n",
    "encoding_dim = 16  # 您选择的编码维度\n",
    "\n",
    "input_layer = Input(shape=(input_dim,))\n",
    "# 编码器层\n",
    "encoded = Dense(64, activation='relu')(input_layer)\n",
    "encoded = Dense(32, activation='relu')(encoded)\n",
    "encoded = Dense(encoding_dim, activation='relu')(encoded)\n",
    "\n",
    "# 解码器层\n",
    "decoded = Dense(32, activation='relu')(encoded)\n",
    "decoded = Dense(64, activation='relu')(decoded)\n",
    "decoded = Dense(input_dim, activation='sigmoid')(decoded)\n",
    "\n",
    "encoder = Model(input_layer, encoded)\n",
    "autoencoder = Model(input_layer, decoded)\n",
    "\n",
    "autoencoder.compile(optimizer='adam', loss='mean_squared_error')\n"
   ]
  },
  {
   "cell_type": "code",
   "execution_count": 6,
   "id": "8b157b98220837b5",
   "metadata": {
    "ExecuteTime": {
     "end_time": "2023-12-18T00:10:46.876259480Z",
     "start_time": "2023-12-18T00:10:46.808760562Z"
    },
    "collapsed": false,
    "jupyter": {
     "outputs_hidden": false
    }
   },
   "outputs": [
    {
     "name": "stdout",
     "output_type": "stream",
     "text": [
      "Epoch 1/30\n",
      "79/79 [==============================] - 1s 2ms/step - loss: 0.9071\n",
      "Epoch 2/30\n",
      "79/79 [==============================] - 0s 2ms/step - loss: 0.7596\n",
      "Epoch 3/30\n",
      "79/79 [==============================] - 0s 2ms/step - loss: 0.7448\n",
      "Epoch 4/30\n",
      "79/79 [==============================] - 0s 2ms/step - loss: 0.7414\n",
      "Epoch 5/30\n",
      "79/79 [==============================] - 0s 2ms/step - loss: 0.7399\n",
      "Epoch 6/30\n",
      "79/79 [==============================] - 0s 2ms/step - loss: 0.7394\n",
      "Epoch 7/30\n",
      "79/79 [==============================] - 0s 2ms/step - loss: 0.7392\n",
      "Epoch 8/30\n",
      "79/79 [==============================] - 0s 2ms/step - loss: 0.7390\n",
      "Epoch 9/30\n",
      "79/79 [==============================] - 0s 2ms/step - loss: 0.7389\n",
      "Epoch 10/30\n",
      "79/79 [==============================] - 0s 2ms/step - loss: 0.7387\n",
      "Epoch 11/30\n",
      "79/79 [==============================] - 0s 2ms/step - loss: 0.7385\n",
      "Epoch 12/30\n",
      "79/79 [==============================] - 0s 2ms/step - loss: 0.7384\n",
      "Epoch 13/30\n",
      "79/79 [==============================] - 0s 2ms/step - loss: 0.7383\n",
      "Epoch 14/30\n",
      "79/79 [==============================] - 0s 2ms/step - loss: 0.7383\n",
      "Epoch 15/30\n",
      "79/79 [==============================] - 0s 2ms/step - loss: 0.7382\n",
      "Epoch 16/30\n",
      "79/79 [==============================] - 0s 2ms/step - loss: 0.7382\n",
      "Epoch 17/30\n",
      "79/79 [==============================] - 0s 2ms/step - loss: 0.7382\n",
      "Epoch 18/30\n",
      "79/79 [==============================] - 0s 2ms/step - loss: 0.7382\n",
      "Epoch 19/30\n",
      "79/79 [==============================] - 0s 2ms/step - loss: 0.7382\n",
      "Epoch 20/30\n",
      "79/79 [==============================] - 0s 2ms/step - loss: 0.7381\n",
      "Epoch 21/30\n",
      "79/79 [==============================] - 0s 2ms/step - loss: 0.7381\n",
      "Epoch 22/30\n",
      "79/79 [==============================] - 0s 2ms/step - loss: 0.7381\n",
      "Epoch 23/30\n",
      "79/79 [==============================] - 0s 2ms/step - loss: 0.7381\n",
      "Epoch 24/30\n",
      "79/79 [==============================] - 0s 2ms/step - loss: 0.7381\n",
      "Epoch 25/30\n",
      "79/79 [==============================] - 0s 2ms/step - loss: 0.7381\n",
      "Epoch 26/30\n",
      "79/79 [==============================] - 0s 2ms/step - loss: 0.7380\n",
      "Epoch 27/30\n",
      "79/79 [==============================] - 0s 2ms/step - loss: 0.7380\n",
      "Epoch 28/30\n",
      "79/79 [==============================] - 0s 2ms/step - loss: 0.7380\n",
      "Epoch 29/30\n",
      "79/79 [==============================] - 0s 2ms/step - loss: 0.7380\n",
      "Epoch 30/30\n",
      "79/79 [==============================] - 0s 2ms/step - loss: 0.7380\n"
     ]
    },
    {
     "data": {
      "text/plain": [
       "<keras.src.callbacks.History at 0x7ff854f77700>"
      ]
     },
     "execution_count": 6,
     "metadata": {},
     "output_type": "execute_result"
    }
   ],
   "source": [
    "autoencoder.fit(data_scaled, data_scaled, epochs=30, batch_size=128, shuffle=True)"
   ]
  },
  {
   "cell_type": "code",
   "execution_count": 7,
   "id": "8dff4be4e8b921db",
   "metadata": {
    "ExecuteTime": {
     "end_time": "2023-12-18T00:10:47.287494563Z",
     "start_time": "2023-12-18T00:10:47.228501536Z"
    },
    "collapsed": false,
    "jupyter": {
     "outputs_hidden": false
    }
   },
   "outputs": [
    {
     "name": "stdout",
     "output_type": "stream",
     "text": [
      "313/313 [==============================] - 0s 1ms/step\n"
     ]
    }
   ],
   "source": [
    "encoded_data = encoder.predict(df)"
   ]
  },
  {
   "cell_type": "code",
   "execution_count": 8,
   "id": "520450dbf9b1604e",
   "metadata": {
    "ExecuteTime": {
     "end_time": "2023-12-18T00:10:48.498479223Z",
     "start_time": "2023-12-18T00:10:48.430388213Z"
    },
    "collapsed": false,
    "jupyter": {
     "outputs_hidden": false
    }
   },
   "outputs": [
    {
     "name": "stdout",
     "output_type": "stream",
     "text": [
      "Silhouette Coefficient Index: 0.9990404\n",
      "Adjusted Rand index: -0.00015049566622998476\n"
     ]
    }
   ],
   "source": [
    "# 应用 BIRCH 聚类\n",
    "birch_model = Birch(n_clusters = 2)  # 设置聚类数\n",
    "labels_pred = birch_model.fit_predict(df)\n",
    "\n",
    "# 评估聚类效果\n",
    "silhouette = silhouette_score(encoded_data, labels_pred)\n",
    "ari = adjusted_rand_score(y, labels_pred)\n",
    "print(\"Silhouette Coefficient Index:\", silhouette)\n",
    "print(\"Adjusted Rand index:\", ari)\n",
    "\n",
    "# # 可视化（可选）\n",
    "# # 这需要您的数据是二维的，或者使用降维方法将其转换为二维\n",
    "# plt.scatter(data.iloc[:, 0], data.iloc[:, 1], c=labels_pred, cmap='viridis')\n",
    "# plt.title('BIRCH Clustering')\n",
    "# plt.show()"
   ]
  },
  {
   "cell_type": "markdown",
   "id": "c3d8821b3a0f6653",
   "metadata": {
    "collapsed": false,
    "jupyter": {
     "outputs_hidden": false
    }
   },
   "source": [
    "# Classification"
   ]
  },
  {
   "cell_type": "code",
   "execution_count": 9,
   "id": "c2bdec8ae641fdde",
   "metadata": {
    "ExecuteTime": {
     "end_time": "2023-12-18T03:32:50.598026281Z",
     "start_time": "2023-12-18T03:32:49.739629056Z"
    },
    "collapsed": false,
    "jupyter": {
     "outputs_hidden": false
    }
   },
   "outputs": [
    {
     "name": "stdout",
     "output_type": "stream",
     "text": [
      "   duration protocol_type service flag  src_bytes  dst_bytes  land  \\\n",
      "0         0           tcp    http   SF        181       5450     0   \n",
      "1         0           tcp    http   SF        239        486     0   \n",
      "2         0           tcp    http   SF        235       1337     0   \n",
      "3         0           tcp    http   SF        219       1337     0   \n",
      "4         0           tcp    http   SF        217       2032     0   \n",
      "\n",
      "   wrong_fragment  urgent  hot  ...  dst_host_same_srv_rate  \\\n",
      "0               0       0    0  ...                     1.0   \n",
      "1               0       0    0  ...                     1.0   \n",
      "2               0       0    0  ...                     1.0   \n",
      "3               0       0    0  ...                     1.0   \n",
      "4               0       0    0  ...                     1.0   \n",
      "\n",
      "   dst_host_diff_srv_rate  dst_host_same_src_port_rate  \\\n",
      "0                     0.0                         0.11   \n",
      "1                     0.0                         0.05   \n",
      "2                     0.0                         0.03   \n",
      "3                     0.0                         0.03   \n",
      "4                     0.0                         0.02   \n",
      "\n",
      "   dst_host_srv_diff_host_rate  dst_host_serror_rate  \\\n",
      "0                          0.0                   0.0   \n",
      "1                          0.0                   0.0   \n",
      "2                          0.0                   0.0   \n",
      "3                          0.0                   0.0   \n",
      "4                          0.0                   0.0   \n",
      "\n",
      "   dst_host_srv_serror_rate  dst_host_rerror_rate  dst_host_srv_rerror_rate  \\\n",
      "0                       0.0                   0.0                       0.0   \n",
      "1                       0.0                   0.0                       0.0   \n",
      "2                       0.0                   0.0                       0.0   \n",
      "3                       0.0                   0.0                       0.0   \n",
      "4                       0.0                   0.0                       0.0   \n",
      "\n",
      "     label  result  \n",
      "0  normal.       0  \n",
      "1  normal.       0  \n",
      "2  normal.       0  \n",
      "3  normal.       0  \n",
      "4  normal.       0  \n",
      "\n",
      "[5 rows x 43 columns]\n"
     ]
    }
   ],
   "source": [
    "# from preprocessing import preprocess\n",
    "df, y = preprocess(raw, mode='cluster')\n",
    "result = {}\n",
    "\n",
    "from sklearn.model_selection import train_test_split\n",
    "X_train, X_test, y_train, y_test = train_test_split(df, y, test_size=0.2, random_state=0)"
   ]
  },
  {
   "cell_type": "code",
   "execution_count": 10,
   "id": "dd03619145ab3163",
   "metadata": {
    "ExecuteTime": {
     "end_time": "2023-12-18T03:35:13.949826558Z",
     "start_time": "2023-12-18T03:34:58.601966730Z"
    },
    "collapsed": false,
    "jupyter": {
     "outputs_hidden": false
    }
   },
   "outputs": [
    {
     "name": "stdout",
     "output_type": "stream",
     "text": [
      "              precision    recall  f1-score   support\n",
      "\n",
      "           0       0.93      0.98      0.95     19471\n",
      "           1       0.99      0.98      0.99     79334\n",
      "\n",
      "    accuracy                           0.98     98805\n",
      "   macro avg       0.96      0.98      0.97     98805\n",
      "weighted avg       0.98      0.98      0.98     98805\n",
      "\n"
     ]
    },
    {
     "name": "stderr",
     "output_type": "stream",
     "text": [
      "/home/mininet/Western/cs9636/.venv/lib/python3.8/site-packages/sklearn/linear_model/_logistic.py:460: ConvergenceWarning: lbfgs failed to converge (status=1):\n",
      "STOP: TOTAL NO. of ITERATIONS REACHED LIMIT.\n",
      "\n",
      "Increase the number of iterations (max_iter) or scale the data as shown in:\n",
      "    https://scikit-learn.org/stable/modules/preprocessing.html\n",
      "Please also refer to the documentation for alternative solver options:\n",
      "    https://scikit-learn.org/stable/modules/linear_model.html#logistic-regression\n",
      "  n_iter_i = _check_optimize_result(\n"
     ]
    }
   ],
   "source": [
    "# logistic regression\n",
    "from sklearn.linear_model import LogisticRegression\n",
    "from sklearn.metrics import classification_report\n",
    "\n",
    "\n",
    "lr = LogisticRegression(random_state=0, solver='lbfgs', multi_class='multinomial')\n",
    "lr.fit(X_train, y_train)\n",
    "y_pred = lr.predict(X_test)\n",
    "print(classification_report(y_test, y_pred))\n",
    "# from visual import draw\n",
    "# result['MLP'] = draw(lr, X_test, y_test)\n"
   ]
  },
  {
   "cell_type": "code",
   "execution_count": 11,
   "id": "80b4f5fb8648fd73",
   "metadata": {
    "ExecuteTime": {
     "end_time": "2023-12-16T03:02:20.628078800Z",
     "start_time": "2023-12-16T03:01:51.464301800Z"
    },
    "collapsed": false,
    "jupyter": {
     "outputs_hidden": false
    }
   },
   "outputs": [
    {
     "name": "stdout",
     "output_type": "stream",
     "text": [
      "              precision    recall  f1-score   support\n",
      "\n",
      "           0       0.93      0.99      0.96     19471\n",
      "           1       1.00      0.98      0.99     79334\n",
      "\n",
      "    accuracy                           0.98     98805\n",
      "   macro avg       0.96      0.99      0.98     98805\n",
      "weighted avg       0.98      0.98      0.98     98805\n",
      "\n"
     ]
    }
   ],
   "source": [
    "#MLP\n",
    "from sklearn.neural_network import MLPClassifier\n",
    "from sklearn.metrics import classification_report\n",
    "\n",
    "\n",
    "\n",
    "clf = MLPClassifier(solver='lbfgs', alpha=1e-5, hidden_layer_sizes=(5, 2), random_state=1)\n",
    "clf.fit(X_train, y_train)\n",
    "y_pred = clf.predict(X_test)\n",
    "print(classification_report(y_test, y_pred))\n",
    "\n",
    "# from visual import draw\n",
    "# result['MLP'] = draw(clf, X_test, y_test)\n"
   ]
  },
  {
   "cell_type": "code",
   "execution_count": 12,
   "id": "bd9bc5d6703baae5",
   "metadata": {
    "ExecuteTime": {
     "end_time": "2023-12-18T03:35:44.354532982Z",
     "start_time": "2023-12-18T03:35:37.046673239Z"
    },
    "collapsed": false,
    "jupyter": {
     "outputs_hidden": false
    }
   },
   "outputs": [
    {
     "name": "stdout",
     "output_type": "stream",
     "text": [
      "              precision    recall  f1-score   support\n",
      "\n",
      "           0       0.97      0.98      0.98     19471\n",
      "           1       1.00      0.99      0.99     79334\n",
      "\n",
      "    accuracy                           0.99     98805\n",
      "   macro avg       0.98      0.99      0.98     98805\n",
      "weighted avg       0.99      0.99      0.99     98805\n",
      "\n"
     ]
    }
   ],
   "source": [
    "from sklearn.ensemble import RandomForestClassifier\n",
    "rf = RandomForestClassifier(n_estimators=102, max_depth=2, random_state=0)\n",
    "rf.fit(X_train, y_train)\n",
    "y_pred = rf.predict(X_test)\n",
    "\n",
    "print(classification_report(y_test, y_pred))\n",
    "# draw(rf, X_test, y_test)\n"
   ]
  },
  {
   "cell_type": "code",
   "execution_count": 16,
   "id": "abb797b06bb0ecac",
   "metadata": {
    "collapsed": false,
    "jupyter": {
     "outputs_hidden": false
    }
   },
   "outputs": [],
   "source": [
    "import pickle\n",
    "with open(\"rf.pickle\", \"wb\") as f:\n",
    "    pickle.dump(rf, f)"
   ]
  },
  {
   "cell_type": "code",
   "execution_count": null,
   "id": "7d7c3a50-3c7d-444b-b8e2-78b19690a7a4",
   "metadata": {},
   "outputs": [],
   "source": []
  }
 ],
 "metadata": {
  "kernelspec": {
   "display_name": "Python 3 (ipykernel)",
   "language": "python",
   "name": "python3"
  },
  "language_info": {
   "codemirror_mode": {
    "name": "ipython",
    "version": 3
   },
   "file_extension": ".py",
   "mimetype": "text/x-python",
   "name": "python",
   "nbconvert_exporter": "python",
   "pygments_lexer": "ipython3",
   "version": "3.8.5"
  }
 },
 "nbformat": 4,
 "nbformat_minor": 5
}
